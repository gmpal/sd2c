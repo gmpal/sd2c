{
 "cells": [
  {
   "cell_type": "code",
   "execution_count": 9,
   "metadata": {},
   "outputs": [],
   "source": [
    "import pandas as pd \n",
    "import numpy as np\n",
    "from sklearn.ensemble import RandomForestClassifier\n",
    "from sklearn.metrics import roc_auc_score"
   ]
  },
  {
   "cell_type": "code",
   "execution_count": 10,
   "metadata": {},
   "outputs": [],
   "source": [
    "df = pd.read_csv('../data/example/descriptors.csv')"
   ]
  },
  {
   "cell_type": "code",
   "execution_count": 13,
   "metadata": {},
   "outputs": [],
   "source": [
    "to_drop = [\n",
    "    \"function_id\",\n",
    "    \"graph_id\",\n",
    "    \"edge_source\",\n",
    "    \"edge_dest\",\n",
    "    \"is_causal\",\n",
    "]\n",
    "\n",
    "rocs = {}\n",
    "for function_id in df[\"function_id\"].unique():\n",
    "    testing_set = df[df[\"function_id\"] == function_id]\n",
    "    training_set = df[df[\"function_id\"] != function_id]\n",
    "\n",
    "    X_train = training_set.drop(columns=to_drop)\n",
    "    y_train = training_set[\"is_causal\"]\n",
    "    X_test = testing_set.drop(columns=to_drop)\n",
    "    y_test = testing_set[\"is_causal\"]\n",
    "\n",
    "    clf = RandomForestClassifier(n_estimators=100, random_state=42)\n",
    "    clf.fit(X_train, y_train)\n",
    "\n",
    "    y_pred_proba = clf.predict_proba(X_test)[:, 1]\n",
    "\n",
    "    rocs[f'Function {int(function_id)}'] = roc_auc_score(y_test, y_pred_proba)"
   ]
  },
  {
   "cell_type": "code",
   "execution_count": 14,
   "metadata": {},
   "outputs": [
    {
     "data": {
      "text/plain": [
       "{'Function 0': np.float64(0.90369812583668),\n",
       " 'Function 1': np.float64(0.8942760960013117),\n",
       " 'Function 2': np.float64(0.9042909992682332),\n",
       " 'Function 3': np.float64(0.914946337178214),\n",
       " 'Function 4': np.float64(0.9325495939289042),\n",
       " 'Function 5': np.float64(0.9335778564634287),\n",
       " 'Function 6': np.float64(0.7390239047600993)}"
      ]
     },
     "execution_count": 14,
     "metadata": {},
     "output_type": "execute_result"
    }
   ],
   "source": [
    "rocs"
   ]
  }
 ],
 "metadata": {
  "kernelspec": {
   "display_name": "sd2c",
   "language": "python",
   "name": "python3"
  },
  "language_info": {
   "codemirror_mode": {
    "name": "ipython",
    "version": 3
   },
   "file_extension": ".py",
   "mimetype": "text/x-python",
   "name": "python",
   "nbconvert_exporter": "python",
   "pygments_lexer": "ipython3",
   "version": "3.10.16"
  }
 },
 "nbformat": 4,
 "nbformat_minor": 2
}
