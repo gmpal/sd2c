{
 "cells": [
  {
   "cell_type": "code",
   "execution_count": 1,
   "metadata": {},
   "outputs": [],
   "source": [
    "import sys\n",
    "import os\n",
    "\n",
    "# Add the project root directory to Python's path\n",
    "sys.path.append(os.path.abspath('..'))  # Assuming notebooks are one level below root"
   ]
  },
  {
   "cell_type": "code",
   "execution_count": 3,
   "metadata": {},
   "outputs": [
    {
     "ename": "ModuleNotFoundError",
     "evalue": "No module named 'CausalPlayground'",
     "output_type": "error",
     "traceback": [
      "\u001b[0;31m---------------------------------------------------------------------------\u001b[0m",
      "\u001b[0;31mModuleNotFoundError\u001b[0m                       Traceback (most recent call last)",
      "Cell \u001b[0;32mIn[3], line 1\u001b[0m\n\u001b[0;32m----> 1\u001b[0m \u001b[38;5;28;01mfrom\u001b[39;00m \u001b[38;5;21;01msrc\u001b[39;00m\u001b[38;5;21;01m.\u001b[39;00m\u001b[38;5;21;01md2c\u001b[39;00m\u001b[38;5;21;01m.\u001b[39;00m\u001b[38;5;21;01mdata_generation\u001b[39;00m\u001b[38;5;21;01m.\u001b[39;00m\u001b[38;5;21;01mbuilder\u001b[39;00m \u001b[38;5;28;01mimport\u001b[39;00m Builder\n\u001b[1;32m      3\u001b[0m \u001b[38;5;28;01mimport\u001b[39;00m \u001b[38;5;21;01mmath\u001b[39;00m\n",
      "File \u001b[0;32m~/git/static/d2c/src/d2c/data_generation/builder.py:6\u001b[0m\n\u001b[1;32m      1\u001b[0m \u001b[38;5;124;03m\"\"\"\u001b[39;00m\n\u001b[1;32m      2\u001b[0m \u001b[38;5;124;03mThis module is responsible for generating data based on the specified parameters.\u001b[39;00m\n\u001b[1;32m      3\u001b[0m \u001b[38;5;124;03m\"\"\"\u001b[39;00m\n\u001b[1;32m      5\u001b[0m \u001b[38;5;28;01mfrom\u001b[39;00m \u001b[38;5;21;01mtyping\u001b[39;00m \u001b[38;5;28;01mimport\u001b[39;00m List, Dict\n\u001b[0;32m----> 6\u001b[0m \u001b[38;5;28;01mfrom\u001b[39;00m \u001b[38;5;21;01mCausalPlayground\u001b[39;00m \u001b[38;5;28;01mimport\u001b[39;00m SCMGenerator\n\u001b[1;32m      7\u001b[0m \u001b[38;5;28;01mimport\u001b[39;00m \u001b[38;5;21;01mrandom\u001b[39;00m\n\u001b[1;32m      8\u001b[0m \u001b[38;5;28;01mfrom\u001b[39;00m \u001b[38;5;21;01md2c\u001b[39;00m\u001b[38;5;21;01m.\u001b[39;00m\u001b[38;5;21;01mdata_generation\u001b[39;00m\u001b[38;5;21;01m.\u001b[39;00m\u001b[38;5;21;01mfunctions\u001b[39;00m \u001b[38;5;28;01mimport\u001b[39;00m (\n\u001b[1;32m      9\u001b[0m     f_linear,\n\u001b[1;32m     10\u001b[0m     polynomial_factory,\n\u001b[0;32m   (...)\u001b[0m\n\u001b[1;32m     13\u001b[0m     f_interaction,\n\u001b[1;32m     14\u001b[0m )\n",
      "\u001b[0;31mModuleNotFoundError\u001b[0m: No module named 'CausalPlayground'"
     ]
    }
   ],
   "source": [
    "from src.d2c.data_generation.builder import Builder\n",
    "\n",
    "import math"
   ]
  },
  {
   "cell_type": "code",
   "execution_count": 6,
   "metadata": {},
   "outputs": [],
   "source": [
    "builder = Builder(\n",
    "    observations=250,  # number of observations per dataset\n",
    "    n_variables_exo=2,  # number of exogenous variables\n",
    "    n_variables_endo=4,  # number of endogenous variables\n",
    "    functions_to_use=[\n",
    "            \"linear\",\n",
    "            \"polynomial\",\n",
    "            \"sigmoid\",\n",
    "            \"nonlinear\",\n",
    "            \"interaction\",\n",
    "        ],  # functions to generate the data\n",
    "    functions_kwargs={\n",
    "        \"polynomial\": [[1, 2], [2, 3]],  # arguments for the functions\n",
    "        'nonlinear': [math.sin, math.tanh, math.exp],\n",
    "    },  # arguments for the functions\n",
    "    datasets_per_function=40,  # number of datasets to generate per function\n",
    "    noise_std=0.2,  # standard deviation of noise\n",
    "    seed=123  # seed for reproducibility\n",
    ")\n",
    "\n",
    "# Step 2: Generate the datasets and DAGs\n",
    "builder.build()\n"
   ]
  },
  {
   "cell_type": "code",
   "execution_count": 1,
   "metadata": {},
   "outputs": [
    {
     "ename": "NameError",
     "evalue": "name 'math' is not defined",
     "output_type": "error",
     "traceback": [
      "\u001b[0;31m---------------------------------------------------------------------------\u001b[0m",
      "\u001b[0;31mNameError\u001b[0m                                 Traceback (most recent call last)",
      "Cell \u001b[0;32mIn[1], line 1\u001b[0m\n\u001b[0;32m----> 1\u001b[0m \u001b[38;5;28mprint\u001b[39m(\u001b[43mmath\u001b[49m\u001b[38;5;241m.\u001b[39msin)\n",
      "\u001b[0;31mNameError\u001b[0m: name 'math' is not defined"
     ]
    }
   ],
   "source": [
    "print(math.sin)"
   ]
  },
  {
   "cell_type": "code",
   "execution_count": 7,
   "metadata": {},
   "outputs": [
    {
     "data": {
      "text/html": [
       "<div>\n",
       "<style scoped>\n",
       "    .dataframe tbody tr th:only-of-type {\n",
       "        vertical-align: middle;\n",
       "    }\n",
       "\n",
       "    .dataframe tbody tr th {\n",
       "        vertical-align: top;\n",
       "    }\n",
       "\n",
       "    .dataframe thead th {\n",
       "        text-align: right;\n",
       "    }\n",
       "</style>\n",
       "<table border=\"1\" class=\"dataframe\">\n",
       "  <thead>\n",
       "    <tr style=\"text-align: right;\">\n",
       "      <th></th>\n",
       "      <th>X0</th>\n",
       "      <th>X1</th>\n",
       "      <th>X2</th>\n",
       "      <th>X3</th>\n",
       "      <th>U0</th>\n",
       "      <th>U1</th>\n",
       "    </tr>\n",
       "  </thead>\n",
       "  <tbody>\n",
       "    <tr>\n",
       "      <th>0</th>\n",
       "      <td>0.654683</td>\n",
       "      <td>2.281338</td>\n",
       "      <td>0.791098</td>\n",
       "      <td>1.608815</td>\n",
       "      <td>0.692910</td>\n",
       "      <td>0.483587</td>\n",
       "    </tr>\n",
       "    <tr>\n",
       "      <th>1</th>\n",
       "      <td>1.119768</td>\n",
       "      <td>2.612755</td>\n",
       "      <td>1.353092</td>\n",
       "      <td>2.751712</td>\n",
       "      <td>0.148079</td>\n",
       "      <td>0.827126</td>\n",
       "    </tr>\n",
       "    <tr>\n",
       "      <th>2</th>\n",
       "      <td>0.365485</td>\n",
       "      <td>1.050956</td>\n",
       "      <td>0.441640</td>\n",
       "      <td>0.898141</td>\n",
       "      <td>0.207741</td>\n",
       "      <td>0.269969</td>\n",
       "    </tr>\n",
       "    <tr>\n",
       "      <th>3</th>\n",
       "      <td>0.684501</td>\n",
       "      <td>2.453571</td>\n",
       "      <td>0.827129</td>\n",
       "      <td>1.682089</td>\n",
       "      <td>0.779432</td>\n",
       "      <td>0.505612</td>\n",
       "    </tr>\n",
       "    <tr>\n",
       "      <th>4</th>\n",
       "      <td>1.239587</td>\n",
       "      <td>2.854988</td>\n",
       "      <td>1.497877</td>\n",
       "      <td>3.046154</td>\n",
       "      <td>0.133887</td>\n",
       "      <td>0.915631</td>\n",
       "    </tr>\n",
       "    <tr>\n",
       "      <th>...</th>\n",
       "      <td>...</td>\n",
       "      <td>...</td>\n",
       "      <td>...</td>\n",
       "      <td>...</td>\n",
       "      <td>...</td>\n",
       "      <td>...</td>\n",
       "    </tr>\n",
       "    <tr>\n",
       "      <th>245</th>\n",
       "      <td>0.795244</td>\n",
       "      <td>2.196936</td>\n",
       "      <td>0.960948</td>\n",
       "      <td>1.954229</td>\n",
       "      <td>0.379782</td>\n",
       "      <td>0.587414</td>\n",
       "    </tr>\n",
       "    <tr>\n",
       "      <th>246</th>\n",
       "      <td>1.318044</td>\n",
       "      <td>3.019294</td>\n",
       "      <td>1.592683</td>\n",
       "      <td>3.238955</td>\n",
       "      <td>0.129172</td>\n",
       "      <td>0.973585</td>\n",
       "    </tr>\n",
       "    <tr>\n",
       "      <th>247</th>\n",
       "      <td>0.691885</td>\n",
       "      <td>2.316482</td>\n",
       "      <td>0.836052</td>\n",
       "      <td>1.700234</td>\n",
       "      <td>0.656275</td>\n",
       "      <td>0.511067</td>\n",
       "    </tr>\n",
       "    <tr>\n",
       "      <th>248</th>\n",
       "      <td>0.661273</td>\n",
       "      <td>2.377423</td>\n",
       "      <td>0.799061</td>\n",
       "      <td>1.625008</td>\n",
       "      <td>0.758704</td>\n",
       "      <td>0.488455</td>\n",
       "    </tr>\n",
       "    <tr>\n",
       "      <th>249</th>\n",
       "      <td>1.293114</td>\n",
       "      <td>3.980835</td>\n",
       "      <td>1.562558</td>\n",
       "      <td>3.177692</td>\n",
       "      <td>0.946138</td>\n",
       "      <td>0.955170</td>\n",
       "    </tr>\n",
       "  </tbody>\n",
       "</table>\n",
       "<p>250 rows × 6 columns</p>\n",
       "</div>"
      ],
      "text/plain": [
       "           X0        X1        X2        X3        U0        U1\n",
       "0    0.654683  2.281338  0.791098  1.608815  0.692910  0.483587\n",
       "1    1.119768  2.612755  1.353092  2.751712  0.148079  0.827126\n",
       "2    0.365485  1.050956  0.441640  0.898141  0.207741  0.269969\n",
       "3    0.684501  2.453571  0.827129  1.682089  0.779432  0.505612\n",
       "4    1.239587  2.854988  1.497877  3.046154  0.133887  0.915631\n",
       "..        ...       ...       ...       ...       ...       ...\n",
       "245  0.795244  2.196936  0.960948  1.954229  0.379782  0.587414\n",
       "246  1.318044  3.019294  1.592683  3.238955  0.129172  0.973585\n",
       "247  0.691885  2.316482  0.836052  1.700234  0.656275  0.511067\n",
       "248  0.661273  2.377423  0.799061  1.625008  0.758704  0.488455\n",
       "249  1.293114  3.980835  1.562558  3.177692  0.946138  0.955170\n",
       "\n",
       "[250 rows x 6 columns]"
      ]
     },
     "execution_count": 7,
     "metadata": {},
     "output_type": "execute_result"
    }
   ],
   "source": [
    "# we can check one of the generated dataset\n",
    "builder.get_generated_observations()['linear'][0]"
   ]
  },
  {
   "cell_type": "code",
   "execution_count": 8,
   "metadata": {},
   "outputs": [
    {
     "data": {
      "image/png": "[encoded data removed]",
      "text/plain": [
       "<Figure size 640x480 with 1 Axes>"
      ]
     },
     "metadata": {},
     "output_type": "display_data"
    }
   ],
   "source": [
    "# we can check one of the generated dags\n",
    "import networkx as nx\n",
    "dag = builder.get_generated_dags()['linear'][0]\n",
    "nx.draw(dag, with_labels=True)"
   ]
  },
  {
   "cell_type": "code",
   "execution_count": 9,
   "metadata": {},
   "outputs": [],
   "source": [
    "builder.to_pickle('example/synthetic_data.pkl')"
   ]
  }
 ],
 "metadata": {
  "kernelspec": {
   "display_name": "d2c-DbbOSeGh-py3.10",
   "language": "python",
   "name": "python3"
  },
  "language_info": {
   "codemirror_mode": {
    "name": "ipython",
    "version": 3
   },
   "file_extension": ".py",
   "mimetype": "text/x-python",
   "name": "python",
   "nbconvert_exporter": "python",
   "pygments_lexer": "ipython3",
   "version": "3.10.10"
  }
 },
 "nbformat": 4,
 "nbformat_minor": 2
}
