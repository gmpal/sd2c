{
 "cells": [
  {
   "cell_type": "markdown",
   "metadata": {},
   "source": [
    "# Synthetic Data Generation with Builder\n",
    "This notebook demonstrates how to use the Builder class to generate synthetic datasets with known causal structures for causal discovery experiments"
   ]
  },
  {
   "cell_type": "markdown",
   "metadata": {},
   "source": [
    "## Setup\n",
    "\n",
    "First, we import necessary libraries and the `Builder` class:"
   ]
  },
  {
   "cell_type": "code",
   "execution_count": 1,
   "metadata": {},
   "outputs": [],
   "source": [
    "import sys\n",
    "import os\n",
    "sys.path.append(os.path.abspath('..')) "
   ]
  },
  {
   "cell_type": "code",
   "execution_count": null,
   "metadata": {},
   "outputs": [],
   "source": [
    "from src.generation.builder import Builder\n",
    "import math\n",
    "import networkx as nx"
   ]
  },
  {
   "cell_type": "markdown",
   "metadata": {},
   "source": [
    "## Initialization\n",
    "We initialize a `Builder` object with the following parameters:\n",
    "\n",
    "- **observations**: 250 observations per dataset\n",
    "- **n_variables_exo**: 2 exogenous variables\n",
    "- **n_variables_endo**: 4 endogenous variables\n",
    "- **functions_to_use**: Various functional relationships between variables\n",
    "  - Linear relationships\n",
    "  - Polynomial relationships\n",
    "  - Sigmoid transformations\n",
    "  - Nonlinear functions (sine, hyperbolic tangent)\n",
    "  - Interaction effects between variables\n",
    "- **functions_kwargs**: Specific parameters for the functions\n",
    "  - Polynomial degrees: [1,2] and [2,3]\n",
    "  - Nonlinear functions: sine and hyperbolic tangent\n",
    "- **datasets_per_function**: 40 datasets generated per function type\n",
    "- **noise_std**: 0.2 standard deviation of noise added\n",
    "- **seed**: 123 for reproducibility\n"
   ]
  },
  {
   "cell_type": "code",
   "execution_count": 3,
   "metadata": {},
   "outputs": [],
   "source": [
    "builder = Builder(\n",
    "    observations=250,  # number of observations per dataset\n",
    "    n_variables_exo=2,  # number of exogenous variables\n",
    "    n_variables_endo=4,  # number of endogenous variables\n",
    "    functions_to_use=[\n",
    "            \"linear\",\n",
    "            \"polynomial\",\n",
    "            \"sigmoid\",\n",
    "            \"nonlinear\",\n",
    "            \"interaction\",\n",
    "        ],  # functions to generate the data\n",
    "    functions_kwargs={\n",
    "        \"polynomial\": [[1, 2], [2, 3]],  # arguments for the functions\n",
    "        'nonlinear': [math.sin, math.tanh],\n",
    "    },  # arguments for the functions\n",
    "    datasets_per_function=40,  # number of datasets to generate per function\n",
    "    noise_std=0.2,  # standard deviation of noise\n",
    "    seed=123  # seed for reproducibility\n",
    ")"
   ]
  },
  {
   "cell_type": "markdown",
   "metadata": {},
   "source": [
    "## Actual Data Generation\n",
    "\n",
    "The `build()` method generates:\n",
    "1. Random Directed Acyclic Graphs (DAGs) representing causal relationships\n",
    "2. Synthetic data following these causal structures\n",
    "3. Different types of functional relationships between variables"
   ]
  },
  {
   "cell_type": "code",
   "execution_count": 4,
   "metadata": {},
   "outputs": [
    {
     "name": "stdout",
     "output_type": "stream",
     "text": [
      "Generating data for linear function...\n",
      "Generating data for sigmoid function...\n",
      "Generating data for interaction function...\n",
      "Generating data for poly_deg_1_2 function...\n",
      "Generating data for poly_deg_2_3 function...\n",
      "Generating data for nonlinear_sin function...\n",
      "Generating data for nonlinear_tanh function...\n"
     ]
    }
   ],
   "source": [
    "# Step 2: Generate the datasets and DAGs\n",
    "builder.build()"
   ]
  },
  {
   "cell_type": "markdown",
   "metadata": {},
   "source": [
    "## Data Inspection\n",
    "We can inspect the generated data and visualize the causal graphs:"
   ]
  },
  {
   "cell_type": "code",
   "execution_count": 5,
   "metadata": {},
   "outputs": [
    {
     "data": {
      "text/html": [
       "<div>\n",
       "<style scoped>\n",
       "    .dataframe tbody tr th:only-of-type {\n",
       "        vertical-align: middle;\n",
       "    }\n",
       "\n",
       "    .dataframe tbody tr th {\n",
       "        vertical-align: top;\n",
       "    }\n",
       "\n",
       "    .dataframe thead th {\n",
       "        text-align: right;\n",
       "    }\n",
       "</style>\n",
       "<table border=\"1\" class=\"dataframe\">\n",
       "  <thead>\n",
       "    <tr style=\"text-align: right;\">\n",
       "      <th></th>\n",
       "      <th>X0</th>\n",
       "      <th>X1</th>\n",
       "      <th>X2</th>\n",
       "      <th>X3</th>\n",
       "      <th>U0</th>\n",
       "      <th>U1</th>\n",
       "    </tr>\n",
       "  </thead>\n",
       "  <tbody>\n",
       "    <tr>\n",
       "      <th>0</th>\n",
       "      <td>0.020819</td>\n",
       "      <td>1.043068</td>\n",
       "      <td>0.025157</td>\n",
       "      <td>0.051161</td>\n",
       "      <td>0.802728</td>\n",
       "      <td>0.015378</td>\n",
       "    </tr>\n",
       "    <tr>\n",
       "      <th>1</th>\n",
       "      <td>0.968659</td>\n",
       "      <td>2.916887</td>\n",
       "      <td>1.170497</td>\n",
       "      <td>2.380378</td>\n",
       "      <td>0.656361</td>\n",
       "      <td>0.715508</td>\n",
       "    </tr>\n",
       "    <tr>\n",
       "      <th>2</th>\n",
       "      <td>0.667150</td>\n",
       "      <td>2.150179</td>\n",
       "      <td>0.806163</td>\n",
       "      <td>1.639451</td>\n",
       "      <td>0.565654</td>\n",
       "      <td>0.492796</td>\n",
       "    </tr>\n",
       "    <tr>\n",
       "      <th>3</th>\n",
       "      <td>0.562136</td>\n",
       "      <td>1.478570</td>\n",
       "      <td>0.679267</td>\n",
       "      <td>1.381390</td>\n",
       "      <td>0.208623</td>\n",
       "      <td>0.415227</td>\n",
       "    </tr>\n",
       "    <tr>\n",
       "      <th>4</th>\n",
       "      <td>0.614698</td>\n",
       "      <td>1.876554</td>\n",
       "      <td>0.742781</td>\n",
       "      <td>1.510554</td>\n",
       "      <td>0.437061</td>\n",
       "      <td>0.454052</td>\n",
       "    </tr>\n",
       "    <tr>\n",
       "      <th>...</th>\n",
       "      <td>...</td>\n",
       "      <td>...</td>\n",
       "      <td>...</td>\n",
       "      <td>...</td>\n",
       "      <td>...</td>\n",
       "      <td>...</td>\n",
       "    </tr>\n",
       "    <tr>\n",
       "      <th>245</th>\n",
       "      <td>0.334608</td>\n",
       "      <td>0.769738</td>\n",
       "      <td>0.404330</td>\n",
       "      <td>0.822265</td>\n",
       "      <td>0.035397</td>\n",
       "      <td>0.247161</td>\n",
       "    </tr>\n",
       "    <tr>\n",
       "      <th>246</th>\n",
       "      <td>0.722138</td>\n",
       "      <td>1.831680</td>\n",
       "      <td>0.872608</td>\n",
       "      <td>1.774578</td>\n",
       "      <td>0.213514</td>\n",
       "      <td>0.533413</td>\n",
       "    </tr>\n",
       "    <tr>\n",
       "      <th>247</th>\n",
       "      <td>0.312252</td>\n",
       "      <td>0.768659</td>\n",
       "      <td>0.377315</td>\n",
       "      <td>0.767326</td>\n",
       "      <td>0.073535</td>\n",
       "      <td>0.230647</td>\n",
       "    </tr>\n",
       "    <tr>\n",
       "      <th>248</th>\n",
       "      <td>0.135349</td>\n",
       "      <td>0.766270</td>\n",
       "      <td>0.163552</td>\n",
       "      <td>0.332606</td>\n",
       "      <td>0.380252</td>\n",
       "      <td>0.099977</td>\n",
       "    </tr>\n",
       "    <tr>\n",
       "      <th>249</th>\n",
       "      <td>0.141572</td>\n",
       "      <td>1.199297</td>\n",
       "      <td>0.171071</td>\n",
       "      <td>0.347898</td>\n",
       "      <td>0.717725</td>\n",
       "      <td>0.104573</td>\n",
       "    </tr>\n",
       "  </tbody>\n",
       "</table>\n",
       "<p>250 rows × 6 columns</p>\n",
       "</div>"
      ],
      "text/plain": [
       "           X0        X1        X2        X3        U0        U1\n",
       "0    0.020819  1.043068  0.025157  0.051161  0.802728  0.015378\n",
       "1    0.968659  2.916887  1.170497  2.380378  0.656361  0.715508\n",
       "2    0.667150  2.150179  0.806163  1.639451  0.565654  0.492796\n",
       "3    0.562136  1.478570  0.679267  1.381390  0.208623  0.415227\n",
       "4    0.614698  1.876554  0.742781  1.510554  0.437061  0.454052\n",
       "..        ...       ...       ...       ...       ...       ...\n",
       "245  0.334608  0.769738  0.404330  0.822265  0.035397  0.247161\n",
       "246  0.722138  1.831680  0.872608  1.774578  0.213514  0.533413\n",
       "247  0.312252  0.768659  0.377315  0.767326  0.073535  0.230647\n",
       "248  0.135349  0.766270  0.163552  0.332606  0.380252  0.099977\n",
       "249  0.141572  1.199297  0.171071  0.347898  0.717725  0.104573\n",
       "\n",
       "[250 rows x 6 columns]"
      ]
     },
     "execution_count": 5,
     "metadata": {},
     "output_type": "execute_result"
    }
   ],
   "source": [
    "# we can check one of the generated dataset\n",
    "builder.get_generated_observations()['linear'][0]"
   ]
  },
  {
   "cell_type": "code",
   "execution_count": null,
   "metadata": {},
   "outputs": [
    {
     "data": {
      "image/png": "[encoded data removed]",
      "text/plain": [
       "<Figure size 640x480 with 1 Axes>"
      ]
     },
     "metadata": {},
     "output_type": "display_data"
    }
   ],
   "source": [
    "# we can check one of the generated dags\n",
    "dag = builder.get_generated_dags()['linear'][0]\n",
    "nx.draw(dag, with_labels=True)"
   ]
  },
  {
   "cell_type": "markdown",
   "metadata": {},
   "source": [
    "## Saving the results\n",
    "\n",
    "We save all data and the corresponding DAGs to Pickle"
   ]
  },
  {
   "cell_type": "code",
   "execution_count": 9,
   "metadata": {},
   "outputs": [],
   "source": [
    "builder.to_pickle('../data/example/synthetic_data.pkl')"
   ]
  }
 ],
 "metadata": {
  "kernelspec": {
   "display_name": "sd2c",
   "language": "python",
   "name": "python3"
  },
  "language_info": {
   "codemirror_mode": {
    "name": "ipython",
    "version": 3
   },
   "file_extension": ".py",
   "mimetype": "text/x-python",
   "name": "python",
   "nbconvert_exporter": "python",
   "pygments_lexer": "ipython3",
   "version": "3.10.16"
  }
 },
 "nbformat": 4,
 "nbformat_minor": 2
}
